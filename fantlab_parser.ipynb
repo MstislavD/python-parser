{
 "cells": [
  {
   "cell_type": "code",
   "execution_count": 39,
   "id": "325e4d56",
   "metadata": {},
   "outputs": [],
   "source": [
    "import pandas as pd\n",
    "import requests\n",
    "from pprint import pprint"
   ]
  },
  {
   "cell_type": "code",
   "execution_count": 78,
   "id": "839992cf",
   "metadata": {},
   "outputs": [],
   "source": [
    "def get_autor(book):\n",
    "    string = book['autors']\n",
    "    index = string.find(']')\n",
    "    index2 = string[index:].find('[')\n",
    "    return string[index+1:index2+index]\n",
    "\n",
    "def get_name(book):\n",
    "    string = book['name']\n",
    "    index = string.find(']')\n",
    "    index2 = string[index:].find('[')\n",
    "    return string[index+1:index2+index] if index > 0 else string\n",
    "\n",
    "\n",
    "def get_series_id(book):\n",
    "    string = book['series']\n",
    "    if string == '':\n",
    "        return None\n",
    "    else:\n",
    "        index1 = string.find('=')\n",
    "        index2 = string.find(']')\n",
    "        return int(string[index1 + 1: index2]) if index1 > 0 else -1\n"
   ]
  },
  {
   "cell_type": "code",
   "execution_count": 113,
   "id": "cf2159e5",
   "metadata": {},
   "outputs": [],
   "source": [
    "def extract_from_fantlab(series):\n",
    "    \n",
    "    url = 'https://api.fantlab.ru/search-editions?q='+str(series)+'&page='\n",
    "\n",
    "    matches = []\n",
    "    page = 1\n",
    "    while True:\n",
    "        response = requests.get(url+str(page))\n",
    "        new_matches = response.json()['matches']\n",
    "        matches += new_matches\n",
    "        if len(new_matches) == 0:\n",
    "            break\n",
    "        page += 1\n",
    "    \n",
    "    hits = [m for m in matches if get_series_id(m) == series]\n",
    "\n",
    "    dic = {'author': [], 'name': [], 'year': []}\n",
    "    for book in hits:\n",
    "        dic['author'].append(get_autor(book))\n",
    "        dic['name'].append(get_name(book))\n",
    "        dic['year'].append(book['year'])\n",
    "        \n",
    "    df = pd.DataFrame(dic)\n",
    "    df['last_name'] = df['author'].apply(lambda x: x.split(' ')[-1])\n",
    "    df = df.sort_values(by = ['last_name', 'name'])\n",
    "    df = df.drop('last_name', axis=1)\n",
    "    df['year'] = df['year'].astype(int)\n",
    "\n",
    "    df.to_excel('data/books.xlsx', sheet_name=str(series), header=False, index=False)"
   ]
  },
  {
   "cell_type": "code",
   "execution_count": 120,
   "id": "828181f6",
   "metadata": {},
   "outputs": [],
   "source": [
    "#extract_from_fantlab(3186)\n",
    "extract_from_fantlab(4215)"
   ]
  }
 ],
 "metadata": {
  "kernelspec": {
   "display_name": "Python 3",
   "language": "python",
   "name": "python3"
  },
  "language_info": {
   "codemirror_mode": {
    "name": "ipython",
    "version": 3
   },
   "file_extension": ".py",
   "mimetype": "text/x-python",
   "name": "python",
   "nbconvert_exporter": "python",
   "pygments_lexer": "ipython3",
   "version": "3.13.2"
  }
 },
 "nbformat": 4,
 "nbformat_minor": 5
}
