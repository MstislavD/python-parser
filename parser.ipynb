{
 "cells": [
  {
   "cell_type": "code",
   "execution_count": null,
   "id": "72772c0b",
   "metadata": {},
   "outputs": [],
   "source": [
    "import pandas as pd\n",
    "from bs4 import BeautifulSoup\n",
    "import requests"
   ]
  },
  {
   "cell_type": "code",
   "execution_count": null,
   "id": "e080f5bf",
   "metadata": {},
   "outputs": [],
   "source": [
    "def get_subregions_tag(tag):\n",
    "        for child in tag.find_all(True):\n",
    "            if 'id' in child.attrs and child.attrs['id'] == \"Maps_and_subregions\":\n",
    "                return child.parent\n",
    "            \n",
    "def get_subregions_table(subregions_tag):\n",
    "    next = subregions_tag\n",
    "    while True:\n",
    "        next = next.next_sibling\n",
    "        if next.name == 'table':\n",
    "            return next\n",
    "\n",
    "            \n",
    "def get_subregions_from_table(table):\n",
    "    #return [item for item in table.find_all('li')]\n",
    "    result = []\n",
    "    for item in table.find_all(True):\n",
    "        if item.string and \"Undisplayed\" in item.string:\n",
    "            break\n",
    "        if item.string and item.name=='a' and item.parent.name == 'li':\n",
    "            result.append(item.string)\n",
    "    return result"
   ]
  },
  {
   "cell_type": "code",
   "execution_count": 35,
   "id": "51b06eee",
   "metadata": {},
   "outputs": [
    {
     "data": {
      "text/plain": [
       "['Brackwell Pumpkin Patch',\n",
       " 'Crystal Lake',\n",
       " 'Eastvale Logging Camp',\n",
       " 'Fargodeep Mine',\n",
       " \"Forest's Edge\",\n",
       " 'Hogger Hill',\n",
       " 'Westbrook Garrison',\n",
       " 'Goldshire',\n",
       " \"Lion's Pride Inn\",\n",
       " \"Goldtooth's Den\",\n",
       " 'Jasperlode Mine',\n",
       " \"Jerod's Landing\",\n",
       " 'The Maclure Vineyards',\n",
       " 'Mirror Lake',\n",
       " 'Mirror Lake Orchard',\n",
       " 'Ridgepoint Tower',\n",
       " 'Stone Cairn Lake',\n",
       " \"Heroes' Vigil\",\n",
       " 'The Stonefield Farm',\n",
       " 'Stormwind Gate',\n",
       " 'Stormwind City',\n",
       " 'Thunder Falls',\n",
       " 'Tower of Azora',\n",
       " 'Echo Ridge Mine',\n",
       " 'Northshire Abbey',\n",
       " 'Hall of Arms',\n",
       " 'Library Wing',\n",
       " 'Main Hall',\n",
       " 'Northshire Vineyards']"
      ]
     },
     "execution_count": 35,
     "metadata": {},
     "output_type": "execute_result"
    }
   ],
   "source": [
    "url = 'https://warcraft.wiki.gg/wiki/'\n",
    "\n",
    "def get_all_subzones(url_zone):  \n",
    "   \n",
    "    response = requests.get(url+url_zone)\n",
    "    page = BeautifulSoup(response.text, 'html.parser')\n",
    "    tag = page.html.body\n",
    "    \n",
    "    subregions_tag = next(x.parent for x in tag.find_all(True) if 'id' in x.attrs and x.attrs['id'] == \"Maps_and_subregions\")\n",
    "    table = next(x for x in subregions_tag.next_siblings if x.name == 'table')\n",
    "    \n",
    "    subregions = []\n",
    "    for item in table.find_all(True):\n",
    "        if item.string and \"Undisplayed\" in item.string:\n",
    "            break\n",
    "        if item.string and item.name=='a' and item.parent.name=='li':\n",
    "            subregions.append(item.string)\n",
    "    \n",
    "    return subregions\n",
    "\n",
    "zone = 'Dun_Morogh'\n",
    "zone2 = 'Elwynn_Forest'\n",
    "get_all_subzones(zone2)\n",
    "    \n",
    "            \n"
   ]
  }
 ],
 "metadata": {
  "kernelspec": {
   "display_name": "Python 3",
   "language": "python",
   "name": "python3"
  },
  "language_info": {
   "codemirror_mode": {
    "name": "ipython",
    "version": 3
   },
   "file_extension": ".py",
   "mimetype": "text/x-python",
   "name": "python",
   "nbconvert_exporter": "python",
   "pygments_lexer": "ipython3",
   "version": "3.13.2"
  }
 },
 "nbformat": 4,
 "nbformat_minor": 5
}
