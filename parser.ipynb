{
 "cells": [
  {
   "cell_type": "code",
   "execution_count": null,
   "id": "72772c0b",
   "metadata": {},
   "outputs": [],
   "source": [
    "import pandas as pd\n",
    "from bs4 import BeautifulSoup\n",
    "import requests"
   ]
  },
  {
   "cell_type": "code",
   "execution_count": null,
   "id": "df5e6cc4",
   "metadata": {},
   "outputs": [],
   "source": [
    "url = 'https://warcraft.wiki.gg/wiki/'"
   ]
  },
  {
   "cell_type": "code",
   "execution_count": 39,
   "id": "51b06eee",
   "metadata": {},
   "outputs": [],
   "source": [
    "def get_all_subzones(url_zone):  \n",
    "   \n",
    "    response = requests.get(url+url_zone)\n",
    "    page = BeautifulSoup(response.text, 'html.parser')\n",
    "    tag = page.html.body\n",
    "    \n",
    "    subregions_tag = next((x.parent for x in tag.find_all(True) if 'id' in x.attrs and x.attrs['id'] == \"Maps_and_subregions\"), None)\n",
    "    \n",
    "    if not subregions_tag:\n",
    "        return []\n",
    "    \n",
    "    table = next(x for x in subregions_tag.next_siblings if x.name == 'table')\n",
    "    \n",
    "    subregions = []\n",
    "    for item in table.find_all(True):\n",
    "        if item.string and \"Undisplayed\" in item.string:\n",
    "            break\n",
    "        if item.string and item.name=='a' and item.parent.name=='li':\n",
    "            subregions.append(item.string)\n",
    "    \n",
    "    return subregions\n",
    "\n",
    "zone = 'Dun_Morogh'\n",
    "zone2 = 'Elwynn_Forest'\n",
    "#get_all_subzones(zone2)"
   ]
  },
  {
   "cell_type": "code",
   "execution_count": 69,
   "id": "653393d9",
   "metadata": {},
   "outputs": [
    {
     "data": {
      "text/plain": [
       "993"
      ]
     },
     "execution_count": 69,
     "metadata": {},
     "output_type": "execute_result"
    }
   ],
   "source": [
    "def get_all_zones(url_continent):\n",
    "    \n",
    "    response = requests.get(url+url_continent)\n",
    "    page = BeautifulSoup(response.text, 'html.parser')\n",
    "    table = next(x for x in page.find_all(True) if x.name=='table' and 'class' in x.attrs and 'navbox' in x.attrs['class'])\n",
    "            \n",
    "    result = [item.attrs['href'][6:] \n",
    "              for item in table.descendants\n",
    "              if item.name == 'a' \n",
    "              and item.parent.name == 'li' \n",
    "              and not 'Classic' in item.attrs['href']]\n",
    "    \n",
    "    return result\n",
    "\n",
    "count = 0\n",
    "for zone in get_all_zones('Eastern_Kingdoms'):\n",
    "    zones = get_all_subzones(zone)\n",
    "    count += len(zones)\n",
    "    \n",
    "count\n",
    "    \n",
    "    "
   ]
  }
 ],
 "metadata": {
  "kernelspec": {
   "display_name": "Python 3",
   "language": "python",
   "name": "python3"
  },
  "language_info": {
   "codemirror_mode": {
    "name": "ipython",
    "version": 3
   },
   "file_extension": ".py",
   "mimetype": "text/x-python",
   "name": "python",
   "nbconvert_exporter": "python",
   "pygments_lexer": "ipython3",
   "version": "3.13.2"
  }
 },
 "nbformat": 4,
 "nbformat_minor": 5
}
